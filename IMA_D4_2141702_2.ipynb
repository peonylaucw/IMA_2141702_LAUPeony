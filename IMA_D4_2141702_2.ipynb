{
  "nbformat": 4,
  "nbformat_minor": 0,
  "metadata": {
    "colab": {
      "name": "IMA D4_2141702_2.ipynb",
      "provenance": []
    },
    "kernelspec": {
      "name": "python3",
      "display_name": "Python 3"
    },
    "language_info": {
      "name": "python"
    }
  },
  "cells": [
    {
      "cell_type": "code",
      "execution_count": 1,
      "metadata": {
        "colab": {
          "base_uri": "https://localhost:8080/"
        },
        "id": "tAgt40Qul4ji",
        "outputId": "c3396a36-82c9-4462-b338-c48e18e164f7"
      },
      "outputs": [
        {
          "output_type": "stream",
          "name": "stdout",
          "text": [
            "Collecting flask-ngrok\n",
            "  Downloading flask_ngrok-0.0.25-py3-none-any.whl (3.1 kB)\n",
            "Requirement already satisfied: Flask>=0.8 in /usr/local/lib/python3.7/dist-packages (from flask-ngrok) (1.1.4)\n",
            "Requirement already satisfied: requests in /usr/local/lib/python3.7/dist-packages (from flask-ngrok) (2.23.0)\n",
            "Requirement already satisfied: click<8.0,>=5.1 in /usr/local/lib/python3.7/dist-packages (from Flask>=0.8->flask-ngrok) (7.1.2)\n",
            "Requirement already satisfied: Werkzeug<2.0,>=0.15 in /usr/local/lib/python3.7/dist-packages (from Flask>=0.8->flask-ngrok) (1.0.1)\n",
            "Requirement already satisfied: Jinja2<3.0,>=2.10.1 in /usr/local/lib/python3.7/dist-packages (from Flask>=0.8->flask-ngrok) (2.11.3)\n",
            "Requirement already satisfied: itsdangerous<2.0,>=0.24 in /usr/local/lib/python3.7/dist-packages (from Flask>=0.8->flask-ngrok) (1.1.0)\n",
            "Requirement already satisfied: MarkupSafe>=0.23 in /usr/local/lib/python3.7/dist-packages (from Jinja2<3.0,>=2.10.1->Flask>=0.8->flask-ngrok) (2.0.1)\n",
            "Requirement already satisfied: chardet<4,>=3.0.2 in /usr/local/lib/python3.7/dist-packages (from requests->flask-ngrok) (3.0.4)\n",
            "Requirement already satisfied: idna<3,>=2.5 in /usr/local/lib/python3.7/dist-packages (from requests->flask-ngrok) (2.10)\n",
            "Requirement already satisfied: certifi>=2017.4.17 in /usr/local/lib/python3.7/dist-packages (from requests->flask-ngrok) (2021.10.8)\n",
            "Requirement already satisfied: urllib3!=1.25.0,!=1.25.1,<1.26,>=1.21.1 in /usr/local/lib/python3.7/dist-packages (from requests->flask-ngrok) (1.24.3)\n",
            "Installing collected packages: flask-ngrok\n",
            "Successfully installed flask-ngrok-0.0.25\n",
            "Collecting pyngrok\n",
            "  Downloading pyngrok-5.1.0.tar.gz (745 kB)\n",
            "\u001b[K     |████████████████████████████████| 745 kB 3.2 MB/s \n",
            "\u001b[?25hRequirement already satisfied: PyYAML in /usr/local/lib/python3.7/dist-packages (from pyngrok) (3.13)\n",
            "Building wheels for collected packages: pyngrok\n",
            "  Building wheel for pyngrok (setup.py) ... \u001b[?25l\u001b[?25hdone\n",
            "  Created wheel for pyngrok: filename=pyngrok-5.1.0-py3-none-any.whl size=19007 sha256=bd993919bdcbc6c2b60278018b3463430dd7523a1ef140ee799bc56885bf7177\n",
            "  Stored in directory: /root/.cache/pip/wheels/bf/e6/af/ccf6598ecefecd44104069371795cb9b3afbcd16987f6ccfb3\n",
            "Successfully built pyngrok\n",
            "Installing collected packages: pyngrok\n",
            "Successfully installed pyngrok-5.1.0\n",
            "Collecting flask-wtf\n",
            "  Downloading Flask_WTF-1.0.0-py3-none-any.whl (12 kB)\n",
            "Collecting WTForms\n",
            "  Downloading WTForms-3.0.1-py3-none-any.whl (136 kB)\n",
            "\u001b[K     |████████████████████████████████| 136 kB 4.1 MB/s \n",
            "\u001b[?25hRequirement already satisfied: itsdangerous in /usr/local/lib/python3.7/dist-packages (from flask-wtf) (1.1.0)\n",
            "Requirement already satisfied: Flask in /usr/local/lib/python3.7/dist-packages (from flask-wtf) (1.1.4)\n",
            "Requirement already satisfied: Werkzeug<2.0,>=0.15 in /usr/local/lib/python3.7/dist-packages (from Flask->flask-wtf) (1.0.1)\n",
            "Requirement already satisfied: click<8.0,>=5.1 in /usr/local/lib/python3.7/dist-packages (from Flask->flask-wtf) (7.1.2)\n",
            "Requirement already satisfied: Jinja2<3.0,>=2.10.1 in /usr/local/lib/python3.7/dist-packages (from Flask->flask-wtf) (2.11.3)\n",
            "Requirement already satisfied: MarkupSafe>=0.23 in /usr/local/lib/python3.7/dist-packages (from Jinja2<3.0,>=2.10.1->Flask->flask-wtf) (2.0.1)\n",
            "Installing collected packages: WTForms, flask-wtf\n",
            "Successfully installed WTForms-3.0.1 flask-wtf-1.0.0\n",
            "Authtoken saved to configuration file: /root/.ngrok2/ngrok.yml\n"
          ]
        }
      ],
      "source": [
        "!pip install flask-ngrok\n",
        "!pip install pyngrok\n",
        "!pip install flask-wtf\n",
        "\n",
        "!ngrok authtoken \"26BvwYERNJ2bmIQDy7N3ORXEVQT_YMeikxvwsqLcNx4BZpX8\""
      ]
    },
    {
      "cell_type": "code",
      "source": [
        "!git clone \"https://github.com/peonylaucw/templates\""
      ],
      "metadata": {
        "colab": {
          "base_uri": "https://localhost:8080/"
        },
        "id": "hs8u77IjmgQx",
        "outputId": "07eb75dd-2982-477b-a5b8-bac5df3da7e4"
      },
      "execution_count": 2,
      "outputs": [
        {
          "output_type": "stream",
          "name": "stdout",
          "text": [
            "Cloning into 'templates'...\n",
            "remote: Enumerating objects: 44, done.\u001b[K\n",
            "remote: Counting objects: 100% (44/44), done.\u001b[K\n",
            "remote: Compressing objects: 100% (39/39), done.\u001b[K\n",
            "remote: Total 44 (delta 5), reused 42 (delta 3), pack-reused 0\u001b[K\n",
            "Unpacking objects: 100% (44/44), done.\n"
          ]
        }
      ]
    },
    {
      "cell_type": "code",
      "source": [
        "import os \n",
        "os.chdir(\"/content/templates\")"
      ],
      "metadata": {
        "id": "riscSsnannHX"
      },
      "execution_count": 3,
      "outputs": []
    },
    {
      "cell_type": "code",
      "source": [
        "from flask import *\n",
        "from flask_ngrok import run_with_ngrok\n",
        "\n",
        "app = Flask(__name__)\n",
        "\n",
        "app_data = {\n",
        "    \"name\":         \"Peter's Starter Template for a Flask Web App\",\n",
        "    \"description\":  \"A basic Flask app using bootstrap for layout\",\n",
        "    \"author\":       \"Peter Simeth\",\n",
        "    \"html_title\":   \"Peter's Starter Template for a Flask Web App\",\n",
        "    \"project_name\": \"Starter Template\",\n",
        "    \"keywords\":     \"flask, webapp, template, basic\"\n",
        "}\n",
        "\n",
        "\n",
        "@app.route('/')\n",
        "def index():\n",
        "    return render_template('index.html', app_data=app_data)\n",
        "\n",
        "run_with_ngrok(app)\n",
        "app.run()"
      ],
      "metadata": {
        "colab": {
          "base_uri": "https://localhost:8080/"
        },
        "id": "rfwEZ-C-nqXv",
        "outputId": "f36faa70-1340-4cd2-dd7b-92cf51e821fc"
      },
      "execution_count": null,
      "outputs": [
        {
          "output_type": "stream",
          "name": "stdout",
          "text": [
            " * Serving Flask app \"__main__\" (lazy loading)\n",
            " * Environment: production\n",
            "\u001b[31m   WARNING: This is a development server. Do not use it in a production deployment.\u001b[0m\n",
            "\u001b[2m   Use a production WSGI server instead.\u001b[0m\n",
            " * Debug mode: off\n"
          ]
        },
        {
          "output_type": "stream",
          "name": "stderr",
          "text": [
            " * Running on http://127.0.0.1:5000/ (Press CTRL+C to quit)\n",
            "Exception in thread _colab_inspector_thread:\n",
            "Traceback (most recent call last):\n",
            "  File \"/usr/lib/python3.7/threading.py\", line 926, in _bootstrap_inner\n",
            "    self.run()\n",
            "  File \"/usr/lib/python3.7/threading.py\", line 870, in run\n",
            "    self._target(*self._args, **self._kwargs)\n",
            "  File \"/usr/local/lib/python3.7/dist-packages/google/colab/_debugpy.py\", line 64, in inspector_thread\n",
            "    _variable_inspector.run(shell, time)\n",
            "  File \"/usr/local/lib/python3.7/dist-packages/google/colab/_variable_inspector.py\", line 27, in run\n",
            "    globals().clear()\n",
            "TypeError: 'module' object is not callable\n",
            "\n"
          ]
        },
        {
          "output_type": "stream",
          "name": "stdout",
          "text": [
            " * Running on http://ffed-35-190-188-116.ngrok.io\n",
            " * Traffic stats available on http://127.0.0.1:4040\n"
          ]
        },
        {
          "output_type": "stream",
          "name": "stderr",
          "text": [
            "127.0.0.1 - - [10/Mar/2022 16:49:51] \"\u001b[37mGET / HTTP/1.1\u001b[0m\" 200 -\n",
            "127.0.0.1 - - [10/Mar/2022 16:49:53] \"\u001b[37mGET / HTTP/1.1\u001b[0m\" 200 -\n",
            "127.0.0.1 - - [10/Mar/2022 16:49:53] \"\u001b[37mGET /static/style.css HTTP/1.1\u001b[0m\" 200 -\n",
            "127.0.0.1 - - [10/Mar/2022 16:49:53] \"\u001b[37mGET /static/instagram_logo.png HTTP/1.1\u001b[0m\" 200 -\n",
            "127.0.0.1 - - [10/Mar/2022 16:49:54] \"\u001b[37mGET /static/1613-08.jpg HTTP/1.1\u001b[0m\" 200 -\n",
            "127.0.0.1 - - [10/Mar/2022 16:49:54] \"\u001b[37mGET /static/1613-06.jpg HTTP/1.1\u001b[0m\" 200 -\n",
            "127.0.0.1 - - [10/Mar/2022 16:49:54] \"\u001b[37mGET /static/1613-09.jpg HTTP/1.1\u001b[0m\" 200 -\n",
            "127.0.0.1 - - [10/Mar/2022 16:49:54] \"\u001b[37mGET /static/1612-04.jpg HTTP/1.1\u001b[0m\" 200 -\n",
            "127.0.0.1 - - [10/Mar/2022 16:49:54] \"\u001b[37mGET /static/1612-17.jpg HTTP/1.1\u001b[0m\" 200 -\n",
            "127.0.0.1 - - [10/Mar/2022 16:49:55] \"\u001b[37mGET /static/1613-02.jpg HTTP/1.1\u001b[0m\" 200 -\n",
            "127.0.0.1 - - [10/Mar/2022 16:50:05] \"\u001b[37mGET /static/1612-18.jpg HTTP/1.1\u001b[0m\" 200 -\n",
            "127.0.0.1 - - [10/Mar/2022 16:50:11] \"\u001b[37mGET /static/1612-10.jpg HTTP/1.1\u001b[0m\" 200 -\n",
            "127.0.0.1 - - [10/Mar/2022 16:50:13] \"\u001b[37mGET /static/1612-28.jpg HTTP/1.1\u001b[0m\" 200 -\n",
            "127.0.0.1 - - [10/Mar/2022 16:50:14] \"\u001b[37mGET /static/hamtaro_4.png HTTP/1.1\u001b[0m\" 200 -\n",
            "127.0.0.1 - - [10/Mar/2022 16:50:14] \"\u001b[37mGET /static/hamtaro_1.png HTTP/1.1\u001b[0m\" 200 -\n",
            "127.0.0.1 - - [10/Mar/2022 16:50:14] \"\u001b[37mGET /static/hamtaro_3.png HTTP/1.1\u001b[0m\" 200 -\n",
            "127.0.0.1 - - [10/Mar/2022 16:50:29] \"\u001b[33mGET /favicon.ico HTTP/1.1\u001b[0m\" 404 -\n",
            "127.0.0.1 - - [10/Mar/2022 16:50:31] \"\u001b[37mGET / HTTP/1.1\u001b[0m\" 200 -\n",
            "127.0.0.1 - - [10/Mar/2022 16:50:32] \"\u001b[37mGET /static/1613-06.jpg HTTP/1.1\u001b[0m\" 200 -\n",
            "127.0.0.1 - - [10/Mar/2022 16:50:32] \"\u001b[37mGET /static/1612-04.jpg HTTP/1.1\u001b[0m\" 200 -\n",
            "127.0.0.1 - - [10/Mar/2022 16:50:32] \"\u001b[37mGET /static/1613-08.jpg HTTP/1.1\u001b[0m\" 200 -\n",
            "127.0.0.1 - - [10/Mar/2022 16:50:32] \"\u001b[37mGET /static/instagram_logo.png HTTP/1.1\u001b[0m\" 200 -\n",
            "127.0.0.1 - - [10/Mar/2022 16:50:32] \"\u001b[37mGET /static/style.css HTTP/1.1\u001b[0m\" 200 -\n",
            "127.0.0.1 - - [10/Mar/2022 16:50:32] \"\u001b[37mGET /static/1613-09.jpg HTTP/1.1\u001b[0m\" 200 -\n",
            "127.0.0.1 - - [10/Mar/2022 16:50:33] \"\u001b[37mGET /static/1612-17.jpg HTTP/1.1\u001b[0m\" 200 -\n",
            "127.0.0.1 - - [10/Mar/2022 16:50:33] \"\u001b[37mGET /static/1613-02.jpg HTTP/1.1\u001b[0m\" 200 -\n",
            "127.0.0.1 - - [10/Mar/2022 16:50:33] \"\u001b[37mGET /static/1612-18.jpg HTTP/1.1\u001b[0m\" 200 -\n",
            "127.0.0.1 - - [10/Mar/2022 16:50:34] \"\u001b[37mGET /static/1612-10.jpg HTTP/1.1\u001b[0m\" 200 -\n",
            "127.0.0.1 - - [10/Mar/2022 16:50:34] \"\u001b[37mGET /static/1612-28.jpg HTTP/1.1\u001b[0m\" 200 -\n",
            "127.0.0.1 - - [10/Mar/2022 16:50:34] \"\u001b[37mGET /static/hamtaro_4.png HTTP/1.1\u001b[0m\" 200 -\n",
            "127.0.0.1 - - [10/Mar/2022 16:50:34] \"\u001b[37mGET /static/hamtaro_1.png HTTP/1.1\u001b[0m\" 200 -\n",
            "127.0.0.1 - - [10/Mar/2022 16:50:34] \"\u001b[37mGET /static/hamtaro_3.png HTTP/1.1\u001b[0m\" 200 -\n"
          ]
        }
      ]
    },
    {
      "cell_type": "code",
      "source": [
        "from flask import *\n",
        "from flask_ngrok import run_with_ngrok\n",
        "import pandas as pd\n",
        "\n",
        "app = Flask(__name__)\n",
        "\n",
        "app_data = {\n",
        "    \"name\":         \"Peter's Starter Template for a Flask Web App\",\n",
        "    \"description\":  \"A basic Flask app using bootstrap for layout\",\n",
        "    \"author\":       \"Peter Simeth\",\n",
        "    \"html_title\":   \"Peter's Starter Template for a Flask Web App\",\n",
        "    \"project_name\": \"Starter Template\",\n",
        "    \"keywords\":     \"flask, webapp, template, basic\"\n",
        "}\n",
        "\n",
        "\n",
        "@app.route('/')\n",
        "def index():\n",
        "    return render_template('index.html', app_data=app_data)\n",
        "\n",
        "\n",
        "@app.route(\"/list\")\n",
        "def list():\n",
        "\tdf = pd.read_csv(\"NamesTwo.csv\")\n",
        "\treturn render_template('list.html', df=df, app_data=app_data)\n",
        "\n",
        "@app.route(\"/table\")\n",
        "def table():\n",
        "\tdf = pd.read_csv(\"NamesTwo.csv\")\n",
        "\treturn render_template('table.html', df=df, app_data=app_data)\n",
        "\n",
        "run_with_ngrok(app)\n",
        "app.run()"
      ],
      "metadata": {
        "colab": {
          "base_uri": "https://localhost:8080/",
          "height": 374
        },
        "id": "1v3ouXTSoMgt",
        "outputId": "72ad3855-75ef-4151-e600-61616020bb6e"
      },
      "execution_count": 1,
      "outputs": [
        {
          "output_type": "error",
          "ename": "ModuleNotFoundError",
          "evalue": "ignored",
          "traceback": [
            "\u001b[0;31m---------------------------------------------------------------------------\u001b[0m",
            "\u001b[0;31mModuleNotFoundError\u001b[0m                       Traceback (most recent call last)",
            "\u001b[0;32m<ipython-input-1-8ed1ebd9c912>\u001b[0m in \u001b[0;36m<module>\u001b[0;34m()\u001b[0m\n\u001b[1;32m      1\u001b[0m \u001b[0;32mfrom\u001b[0m \u001b[0mflask\u001b[0m \u001b[0;32mimport\u001b[0m \u001b[0;34m*\u001b[0m\u001b[0;34m\u001b[0m\u001b[0;34m\u001b[0m\u001b[0m\n\u001b[0;32m----> 2\u001b[0;31m \u001b[0;32mfrom\u001b[0m \u001b[0mflask_ngrok\u001b[0m \u001b[0;32mimport\u001b[0m \u001b[0mrun_with_ngrok\u001b[0m\u001b[0;34m\u001b[0m\u001b[0;34m\u001b[0m\u001b[0m\n\u001b[0m\u001b[1;32m      3\u001b[0m \u001b[0;32mimport\u001b[0m \u001b[0mpandas\u001b[0m \u001b[0;32mas\u001b[0m \u001b[0mpd\u001b[0m\u001b[0;34m\u001b[0m\u001b[0;34m\u001b[0m\u001b[0m\n\u001b[1;32m      4\u001b[0m \u001b[0;34m\u001b[0m\u001b[0m\n\u001b[1;32m      5\u001b[0m \u001b[0mapp\u001b[0m \u001b[0;34m=\u001b[0m \u001b[0mFlask\u001b[0m\u001b[0;34m(\u001b[0m\u001b[0m__name__\u001b[0m\u001b[0;34m)\u001b[0m\u001b[0;34m\u001b[0m\u001b[0;34m\u001b[0m\u001b[0m\n",
            "\u001b[0;31mModuleNotFoundError\u001b[0m: No module named 'flask_ngrok'",
            "",
            "\u001b[0;31m---------------------------------------------------------------------------\u001b[0;32m\nNOTE: If your import is failing due to a missing package, you can\nmanually install dependencies using either !pip or !apt.\n\nTo view examples of installing some common dependencies, click the\n\"Open Examples\" button below.\n\u001b[0;31m---------------------------------------------------------------------------\u001b[0m\n"
          ],
          "errorDetails": {
            "actions": [
              {
                "action": "open_url",
                "actionText": "Open Examples",
                "url": "/notebooks/snippets/importing_libraries.ipynb"
              }
            ]
          }
        }
      ]
    }
  ]
}