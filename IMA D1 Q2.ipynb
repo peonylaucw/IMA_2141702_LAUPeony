{
 "cells": [
  {
   "cell_type": "code",
   "execution_count": null,
   "id": "48fb59ce",
   "metadata": {},
   "outputs": [],
   "source": [
    "word = [input(\"Type a word here: \")]"
   ]
  },
  {
   "cell_type": "code",
   "execution_count": null,
   "id": "eb34d539",
   "metadata": {},
   "outputs": [],
   "source": [
    "count_me = list(word)"
   ]
  },
  {
   "cell_type": "code",
   "execution_count": 20,
   "id": "4cf6cef1",
   "metadata": {},
   "outputs": [
    {
     "name": "stdout",
     "output_type": "stream",
     "text": [
      "['Peony']\n"
     ]
    }
   ],
   "source": [
    "print(count_me)"
   ]
  },
  {
   "cell_type": "code",
   "execution_count": 21,
   "id": "aaf116dd",
   "metadata": {},
   "outputs": [
    {
     "name": "stdout",
     "output_type": "stream",
     "text": [
      "1\n"
     ]
    }
   ],
   "source": [
    "print(len(count_me))"
   ]
  },
  {
   "cell_type": "code",
   "execution_count": 22,
   "id": "892d446f",
   "metadata": {},
   "outputs": [],
   "source": [
    "word = \"word\""
   ]
  },
  {
   "cell_type": "code",
   "execution_count": 23,
   "id": "c7d26862",
   "metadata": {},
   "outputs": [],
   "source": [
    "list_of_letters = list(word)"
   ]
  },
  {
   "cell_type": "code",
   "execution_count": 24,
   "id": "a83924d5",
   "metadata": {},
   "outputs": [
    {
     "name": "stdout",
     "output_type": "stream",
     "text": [
      "['w', 'o', 'r', 'd']\n"
     ]
    }
   ],
   "source": [
    "print(list_of_letters)"
   ]
  },
  {
   "cell_type": "code",
   "execution_count": null,
   "id": "01a333a3",
   "metadata": {},
   "outputs": [],
   "source": []
  }
 ],
 "metadata": {
  "kernelspec": {
   "display_name": "Python 3 (ipykernel)",
   "language": "python",
   "name": "python3"
  },
  "language_info": {
   "codemirror_mode": {
    "name": "ipython",
    "version": 3
   },
   "file_extension": ".py",
   "mimetype": "text/x-python",
   "name": "python",
   "nbconvert_exporter": "python",
   "pygments_lexer": "ipython3",
   "version": "3.9.7"
  }
 },
 "nbformat": 4,
 "nbformat_minor": 5
}
